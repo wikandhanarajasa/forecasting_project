{
  "nbformat": 4,
  "nbformat_minor": 0,
  "metadata": {
    "colab": {
      "provenance": [],
      "toc_visible": true
    },
    "kernelspec": {
      "name": "python3",
      "display_name": "Python 3"
    },
    "language_info": {
      "name": "python"
    }
  },
  "cells": [
    {
      "cell_type": "markdown",
      "source": [
        "# **Forecasting Project**\n"
      ],
      "metadata": {
        "id": "5HFepWS20dQv"
      }
    },
    {
      "cell_type": "markdown",
      "source": [
        "## **Introduction**"
      ],
      "metadata": {
        "id": "H1LTliAb0tF3"
      }
    },
    {
      "cell_type": "markdown",
      "source": [
        "### **Goal**\n",
        "The goal of this project is to develop a predictive model to forecast the number of taxi orders for the upcoming hour. This model will assist Sweet Lift, a taxi company, in attracting more drivers during peak hours and optimizing operational efficiency. The target is to achieve a root mean square error (RMSE) of 48 or less on the test set."
      ],
      "metadata": {
        "id": "Zmho_uMl0vLY"
      }
    },
    {
      "cell_type": "markdown",
      "source": [
        "### **Steps**\n",
        "\n",
        "1. **Data Acquisition and Resampling:**\n",
        "   - Download the dataset from the provided file path.\n",
        "   - Resample the data to aggregate it on an hourly basis.\n",
        "\n",
        "2. **Data Analysis:**\n",
        "   - Perform a comprehensive analysis of the resampled data to identify patterns and trends.\n",
        "\n",
        "3. **Model Training and Evaluation:**\n",
        "   - Train various models with different hyperparameters to determine the most effective forecasting approach.\n",
        "   - Ensure the test sample represents 10% of the original dataset.\n",
        "   - Evaluate the model's performance using the test sample, ensuring the RMSE does not exceed 48."
      ],
      "metadata": {
        "id": "x0sCnY2p0xap"
      }
    },
    {
      "cell_type": "markdown",
      "source": [
        "### **Data Description**\n",
        "The dataset includes historical taxi order data with the number of orders recorded in the `num_orders` column. This data will be utilized for resampling, analysis, and model training to predict future taxi order volumes.\n"
      ],
      "metadata": {
        "id": "Bgzp9kxo0VNG"
      }
    },
    {
      "cell_type": "markdown",
      "source": [
        "## **Data Loadment and Exploratory**"
      ],
      "metadata": {
        "id": "5rLKSWwn07oH"
      }
    },
    {
      "cell_type": "code",
      "source": [
        "!pip install catboost"
      ],
      "metadata": {
        "colab": {
          "base_uri": "https://localhost:8080/"
        },
        "id": "tlTR2zoa1E-t",
        "outputId": "c2df6f42-59dd-4d6e-d5f9-2d2bf88c7390"
      },
      "execution_count": 1,
      "outputs": [
        {
          "output_type": "stream",
          "name": "stdout",
          "text": [
            "Collecting catboost\n",
            "  Downloading catboost-1.2.5-cp310-cp310-manylinux2014_x86_64.whl (98.2 MB)\n",
            "\u001b[2K     \u001b[90m━━━━━━━━━━━━━━━━━━━━━━━━━━━━━━━━━━━━━━━━\u001b[0m \u001b[32m98.2/98.2 MB\u001b[0m \u001b[31m9.1 MB/s\u001b[0m eta \u001b[36m0:00:00\u001b[0m\n",
            "\u001b[?25hRequirement already satisfied: graphviz in /usr/local/lib/python3.10/dist-packages (from catboost) (0.20.3)\n",
            "Requirement already satisfied: matplotlib in /usr/local/lib/python3.10/dist-packages (from catboost) (3.7.1)\n",
            "Requirement already satisfied: numpy>=1.16.0 in /usr/local/lib/python3.10/dist-packages (from catboost) (1.25.2)\n",
            "Requirement already satisfied: pandas>=0.24 in /usr/local/lib/python3.10/dist-packages (from catboost) (2.0.3)\n",
            "Requirement already satisfied: scipy in /usr/local/lib/python3.10/dist-packages (from catboost) (1.11.4)\n",
            "Requirement already satisfied: plotly in /usr/local/lib/python3.10/dist-packages (from catboost) (5.15.0)\n",
            "Requirement already satisfied: six in /usr/local/lib/python3.10/dist-packages (from catboost) (1.16.0)\n",
            "Requirement already satisfied: python-dateutil>=2.8.2 in /usr/local/lib/python3.10/dist-packages (from pandas>=0.24->catboost) (2.8.2)\n",
            "Requirement already satisfied: pytz>=2020.1 in /usr/local/lib/python3.10/dist-packages (from pandas>=0.24->catboost) (2023.4)\n",
            "Requirement already satisfied: tzdata>=2022.1 in /usr/local/lib/python3.10/dist-packages (from pandas>=0.24->catboost) (2024.1)\n",
            "Requirement already satisfied: contourpy>=1.0.1 in /usr/local/lib/python3.10/dist-packages (from matplotlib->catboost) (1.2.1)\n",
            "Requirement already satisfied: cycler>=0.10 in /usr/local/lib/python3.10/dist-packages (from matplotlib->catboost) (0.12.1)\n",
            "Requirement already satisfied: fonttools>=4.22.0 in /usr/local/lib/python3.10/dist-packages (from matplotlib->catboost) (4.53.1)\n",
            "Requirement already satisfied: kiwisolver>=1.0.1 in /usr/local/lib/python3.10/dist-packages (from matplotlib->catboost) (1.4.5)\n",
            "Requirement already satisfied: packaging>=20.0 in /usr/local/lib/python3.10/dist-packages (from matplotlib->catboost) (24.1)\n",
            "Requirement already satisfied: pillow>=6.2.0 in /usr/local/lib/python3.10/dist-packages (from matplotlib->catboost) (9.4.0)\n",
            "Requirement already satisfied: pyparsing>=2.3.1 in /usr/local/lib/python3.10/dist-packages (from matplotlib->catboost) (3.1.2)\n",
            "Requirement already satisfied: tenacity>=6.2.0 in /usr/local/lib/python3.10/dist-packages (from plotly->catboost) (8.5.0)\n",
            "Installing collected packages: catboost\n",
            "Successfully installed catboost-1.2.5\n"
          ]
        }
      ]
    },
    {
      "cell_type": "code",
      "execution_count": 2,
      "metadata": {
        "id": "5em4sa85zHe8"
      },
      "outputs": [],
      "source": [
        "# Import necessary library\n",
        "\n",
        "import pandas as pd\n",
        "import numpy as np\n",
        "import seaborn as sns\n",
        "import matplotlib.pyplot as plt\n",
        "from statsmodels.tsa.seasonal import seasonal_decompose\n",
        "from sklearn.model_selection import train_test_split\n",
        "from sklearn.metrics import mean_squared_error\n",
        "from sklearn.linear_model import LinearRegression\n",
        "from sklearn.ensemble import RandomForestRegressor\n",
        "from lightgbm import LGBMRegressor\n",
        "from catboost import CatBoostRegressor"
      ]
    },
    {
      "cell_type": "markdown",
      "source": [
        "### **Data Loadment**"
      ],
      "metadata": {
        "id": "tlDqQWo81hed"
      }
    },
    {
      "cell_type": "code",
      "source": [
        "# Data Loadment\n",
        "\n",
        "path = '/content/taxi.csv'\n",
        "df = pd.read_csv(path, index_col=[0], parse_dates=[0])\n",
        "df.head(5)"
      ],
      "metadata": {
        "colab": {
          "base_uri": "https://localhost:8080/",
          "height": 238
        },
        "id": "z9Lta1vV1BPd",
        "outputId": "8e28e764-c2ba-4a84-d5f5-ef49c79e8852"
      },
      "execution_count": 3,
      "outputs": [
        {
          "output_type": "execute_result",
          "data": {
            "text/plain": [
              "                     num_orders\n",
              "datetime                       \n",
              "2018-03-01 00:00:00           9\n",
              "2018-03-01 00:10:00          14\n",
              "2018-03-01 00:20:00          28\n",
              "2018-03-01 00:30:00          20\n",
              "2018-03-01 00:40:00          32"
            ],
            "text/html": [
              "\n",
              "  <div id=\"df-e0b65719-c721-4a27-a498-637a2c69e4bc\" class=\"colab-df-container\">\n",
              "    <div>\n",
              "<style scoped>\n",
              "    .dataframe tbody tr th:only-of-type {\n",
              "        vertical-align: middle;\n",
              "    }\n",
              "\n",
              "    .dataframe tbody tr th {\n",
              "        vertical-align: top;\n",
              "    }\n",
              "\n",
              "    .dataframe thead th {\n",
              "        text-align: right;\n",
              "    }\n",
              "</style>\n",
              "<table border=\"1\" class=\"dataframe\">\n",
              "  <thead>\n",
              "    <tr style=\"text-align: right;\">\n",
              "      <th></th>\n",
              "      <th>num_orders</th>\n",
              "    </tr>\n",
              "    <tr>\n",
              "      <th>datetime</th>\n",
              "      <th></th>\n",
              "    </tr>\n",
              "  </thead>\n",
              "  <tbody>\n",
              "    <tr>\n",
              "      <th>2018-03-01 00:00:00</th>\n",
              "      <td>9</td>\n",
              "    </tr>\n",
              "    <tr>\n",
              "      <th>2018-03-01 00:10:00</th>\n",
              "      <td>14</td>\n",
              "    </tr>\n",
              "    <tr>\n",
              "      <th>2018-03-01 00:20:00</th>\n",
              "      <td>28</td>\n",
              "    </tr>\n",
              "    <tr>\n",
              "      <th>2018-03-01 00:30:00</th>\n",
              "      <td>20</td>\n",
              "    </tr>\n",
              "    <tr>\n",
              "      <th>2018-03-01 00:40:00</th>\n",
              "      <td>32</td>\n",
              "    </tr>\n",
              "  </tbody>\n",
              "</table>\n",
              "</div>\n",
              "    <div class=\"colab-df-buttons\">\n",
              "\n",
              "  <div class=\"colab-df-container\">\n",
              "    <button class=\"colab-df-convert\" onclick=\"convertToInteractive('df-e0b65719-c721-4a27-a498-637a2c69e4bc')\"\n",
              "            title=\"Convert this dataframe to an interactive table.\"\n",
              "            style=\"display:none;\">\n",
              "\n",
              "  <svg xmlns=\"http://www.w3.org/2000/svg\" height=\"24px\" viewBox=\"0 -960 960 960\">\n",
              "    <path d=\"M120-120v-720h720v720H120Zm60-500h600v-160H180v160Zm220 220h160v-160H400v160Zm0 220h160v-160H400v160ZM180-400h160v-160H180v160Zm440 0h160v-160H620v160ZM180-180h160v-160H180v160Zm440 0h160v-160H620v160Z\"/>\n",
              "  </svg>\n",
              "    </button>\n",
              "\n",
              "  <style>\n",
              "    .colab-df-container {\n",
              "      display:flex;\n",
              "      gap: 12px;\n",
              "    }\n",
              "\n",
              "    .colab-df-convert {\n",
              "      background-color: #E8F0FE;\n",
              "      border: none;\n",
              "      border-radius: 50%;\n",
              "      cursor: pointer;\n",
              "      display: none;\n",
              "      fill: #1967D2;\n",
              "      height: 32px;\n",
              "      padding: 0 0 0 0;\n",
              "      width: 32px;\n",
              "    }\n",
              "\n",
              "    .colab-df-convert:hover {\n",
              "      background-color: #E2EBFA;\n",
              "      box-shadow: 0px 1px 2px rgba(60, 64, 67, 0.3), 0px 1px 3px 1px rgba(60, 64, 67, 0.15);\n",
              "      fill: #174EA6;\n",
              "    }\n",
              "\n",
              "    .colab-df-buttons div {\n",
              "      margin-bottom: 4px;\n",
              "    }\n",
              "\n",
              "    [theme=dark] .colab-df-convert {\n",
              "      background-color: #3B4455;\n",
              "      fill: #D2E3FC;\n",
              "    }\n",
              "\n",
              "    [theme=dark] .colab-df-convert:hover {\n",
              "      background-color: #434B5C;\n",
              "      box-shadow: 0px 1px 3px 1px rgba(0, 0, 0, 0.15);\n",
              "      filter: drop-shadow(0px 1px 2px rgba(0, 0, 0, 0.3));\n",
              "      fill: #FFFFFF;\n",
              "    }\n",
              "  </style>\n",
              "\n",
              "    <script>\n",
              "      const buttonEl =\n",
              "        document.querySelector('#df-e0b65719-c721-4a27-a498-637a2c69e4bc button.colab-df-convert');\n",
              "      buttonEl.style.display =\n",
              "        google.colab.kernel.accessAllowed ? 'block' : 'none';\n",
              "\n",
              "      async function convertToInteractive(key) {\n",
              "        const element = document.querySelector('#df-e0b65719-c721-4a27-a498-637a2c69e4bc');\n",
              "        const dataTable =\n",
              "          await google.colab.kernel.invokeFunction('convertToInteractive',\n",
              "                                                    [key], {});\n",
              "        if (!dataTable) return;\n",
              "\n",
              "        const docLinkHtml = 'Like what you see? Visit the ' +\n",
              "          '<a target=\"_blank\" href=https://colab.research.google.com/notebooks/data_table.ipynb>data table notebook</a>'\n",
              "          + ' to learn more about interactive tables.';\n",
              "        element.innerHTML = '';\n",
              "        dataTable['output_type'] = 'display_data';\n",
              "        await google.colab.output.renderOutput(dataTable, element);\n",
              "        const docLink = document.createElement('div');\n",
              "        docLink.innerHTML = docLinkHtml;\n",
              "        element.appendChild(docLink);\n",
              "      }\n",
              "    </script>\n",
              "  </div>\n",
              "\n",
              "\n",
              "<div id=\"df-b8844e07-323d-4e7c-9227-324135ee8ae6\">\n",
              "  <button class=\"colab-df-quickchart\" onclick=\"quickchart('df-b8844e07-323d-4e7c-9227-324135ee8ae6')\"\n",
              "            title=\"Suggest charts\"\n",
              "            style=\"display:none;\">\n",
              "\n",
              "<svg xmlns=\"http://www.w3.org/2000/svg\" height=\"24px\"viewBox=\"0 0 24 24\"\n",
              "     width=\"24px\">\n",
              "    <g>\n",
              "        <path d=\"M19 3H5c-1.1 0-2 .9-2 2v14c0 1.1.9 2 2 2h14c1.1 0 2-.9 2-2V5c0-1.1-.9-2-2-2zM9 17H7v-7h2v7zm4 0h-2V7h2v10zm4 0h-2v-4h2v4z\"/>\n",
              "    </g>\n",
              "</svg>\n",
              "  </button>\n",
              "\n",
              "<style>\n",
              "  .colab-df-quickchart {\n",
              "      --bg-color: #E8F0FE;\n",
              "      --fill-color: #1967D2;\n",
              "      --hover-bg-color: #E2EBFA;\n",
              "      --hover-fill-color: #174EA6;\n",
              "      --disabled-fill-color: #AAA;\n",
              "      --disabled-bg-color: #DDD;\n",
              "  }\n",
              "\n",
              "  [theme=dark] .colab-df-quickchart {\n",
              "      --bg-color: #3B4455;\n",
              "      --fill-color: #D2E3FC;\n",
              "      --hover-bg-color: #434B5C;\n",
              "      --hover-fill-color: #FFFFFF;\n",
              "      --disabled-bg-color: #3B4455;\n",
              "      --disabled-fill-color: #666;\n",
              "  }\n",
              "\n",
              "  .colab-df-quickchart {\n",
              "    background-color: var(--bg-color);\n",
              "    border: none;\n",
              "    border-radius: 50%;\n",
              "    cursor: pointer;\n",
              "    display: none;\n",
              "    fill: var(--fill-color);\n",
              "    height: 32px;\n",
              "    padding: 0;\n",
              "    width: 32px;\n",
              "  }\n",
              "\n",
              "  .colab-df-quickchart:hover {\n",
              "    background-color: var(--hover-bg-color);\n",
              "    box-shadow: 0 1px 2px rgba(60, 64, 67, 0.3), 0 1px 3px 1px rgba(60, 64, 67, 0.15);\n",
              "    fill: var(--button-hover-fill-color);\n",
              "  }\n",
              "\n",
              "  .colab-df-quickchart-complete:disabled,\n",
              "  .colab-df-quickchart-complete:disabled:hover {\n",
              "    background-color: var(--disabled-bg-color);\n",
              "    fill: var(--disabled-fill-color);\n",
              "    box-shadow: none;\n",
              "  }\n",
              "\n",
              "  .colab-df-spinner {\n",
              "    border: 2px solid var(--fill-color);\n",
              "    border-color: transparent;\n",
              "    border-bottom-color: var(--fill-color);\n",
              "    animation:\n",
              "      spin 1s steps(1) infinite;\n",
              "  }\n",
              "\n",
              "  @keyframes spin {\n",
              "    0% {\n",
              "      border-color: transparent;\n",
              "      border-bottom-color: var(--fill-color);\n",
              "      border-left-color: var(--fill-color);\n",
              "    }\n",
              "    20% {\n",
              "      border-color: transparent;\n",
              "      border-left-color: var(--fill-color);\n",
              "      border-top-color: var(--fill-color);\n",
              "    }\n",
              "    30% {\n",
              "      border-color: transparent;\n",
              "      border-left-color: var(--fill-color);\n",
              "      border-top-color: var(--fill-color);\n",
              "      border-right-color: var(--fill-color);\n",
              "    }\n",
              "    40% {\n",
              "      border-color: transparent;\n",
              "      border-right-color: var(--fill-color);\n",
              "      border-top-color: var(--fill-color);\n",
              "    }\n",
              "    60% {\n",
              "      border-color: transparent;\n",
              "      border-right-color: var(--fill-color);\n",
              "    }\n",
              "    80% {\n",
              "      border-color: transparent;\n",
              "      border-right-color: var(--fill-color);\n",
              "      border-bottom-color: var(--fill-color);\n",
              "    }\n",
              "    90% {\n",
              "      border-color: transparent;\n",
              "      border-bottom-color: var(--fill-color);\n",
              "    }\n",
              "  }\n",
              "</style>\n",
              "\n",
              "  <script>\n",
              "    async function quickchart(key) {\n",
              "      const quickchartButtonEl =\n",
              "        document.querySelector('#' + key + ' button');\n",
              "      quickchartButtonEl.disabled = true;  // To prevent multiple clicks.\n",
              "      quickchartButtonEl.classList.add('colab-df-spinner');\n",
              "      try {\n",
              "        const charts = await google.colab.kernel.invokeFunction(\n",
              "            'suggestCharts', [key], {});\n",
              "      } catch (error) {\n",
              "        console.error('Error during call to suggestCharts:', error);\n",
              "      }\n",
              "      quickchartButtonEl.classList.remove('colab-df-spinner');\n",
              "      quickchartButtonEl.classList.add('colab-df-quickchart-complete');\n",
              "    }\n",
              "    (() => {\n",
              "      let quickchartButtonEl =\n",
              "        document.querySelector('#df-b8844e07-323d-4e7c-9227-324135ee8ae6 button');\n",
              "      quickchartButtonEl.style.display =\n",
              "        google.colab.kernel.accessAllowed ? 'block' : 'none';\n",
              "    })();\n",
              "  </script>\n",
              "</div>\n",
              "\n",
              "    </div>\n",
              "  </div>\n"
            ],
            "application/vnd.google.colaboratory.intrinsic+json": {
              "type": "dataframe",
              "variable_name": "df",
              "summary": "{\n  \"name\": \"df\",\n  \"rows\": 26496,\n  \"fields\": [\n    {\n      \"column\": \"datetime\",\n      \"properties\": {\n        \"dtype\": \"date\",\n        \"min\": \"2018-03-01 00:00:00\",\n        \"max\": \"2018-08-31 23:50:00\",\n        \"num_unique_values\": 26496,\n        \"samples\": [\n          \"2018-06-16 18:00:00\",\n          \"2018-06-13 14:50:00\",\n          \"2018-05-08 15:40:00\"\n        ],\n        \"semantic_type\": \"\",\n        \"description\": \"\"\n      }\n    },\n    {\n      \"column\": \"num_orders\",\n      \"properties\": {\n        \"dtype\": \"number\",\n        \"std\": 9,\n        \"min\": 0,\n        \"max\": 119,\n        \"num_unique_values\": 81,\n        \"samples\": [\n          30,\n          9,\n          11\n        ],\n        \"semantic_type\": \"\",\n        \"description\": \"\"\n      }\n    }\n  ]\n}"
            }
          },
          "metadata": {},
          "execution_count": 3
        }
      ]
    },
    {
      "cell_type": "code",
      "source": [
        "# Data shape\n",
        "\n",
        "df.shape"
      ],
      "metadata": {
        "colab": {
          "base_uri": "https://localhost:8080/"
        },
        "id": "TSvuncyd1SG9",
        "outputId": "8702f932-9f3f-48f6-e64b-34c4ca23256f"
      },
      "execution_count": 4,
      "outputs": [
        {
          "output_type": "execute_result",
          "data": {
            "text/plain": [
              "(26496, 1)"
            ]
          },
          "metadata": {},
          "execution_count": 4
        }
      ]
    },
    {
      "cell_type": "code",
      "source": [
        "df.info()"
      ],
      "metadata": {
        "colab": {
          "base_uri": "https://localhost:8080/"
        },
        "id": "Uf83w5T71UKV",
        "outputId": "66a7b00a-99bc-40d0-e449-28b6338d75cd"
      },
      "execution_count": 5,
      "outputs": [
        {
          "output_type": "stream",
          "name": "stdout",
          "text": [
            "<class 'pandas.core.frame.DataFrame'>\n",
            "DatetimeIndex: 26496 entries, 2018-03-01 00:00:00 to 2018-08-31 23:50:00\n",
            "Data columns (total 1 columns):\n",
            " #   Column      Non-Null Count  Dtype\n",
            "---  ------      --------------  -----\n",
            " 0   num_orders  26496 non-null  int64\n",
            "dtypes: int64(1)\n",
            "memory usage: 414.0 KB\n"
          ]
        }
      ]
    },
    {
      "cell_type": "code",
      "source": [
        "# missing value checking\n",
        "\n",
        "df.isnull().sum()"
      ],
      "metadata": {
        "colab": {
          "base_uri": "https://localhost:8080/"
        },
        "id": "X6O5BbBY1ViC",
        "outputId": "1ef52c33-6662-4094-df63-f4b7f8a9a7fa"
      },
      "execution_count": 6,
      "outputs": [
        {
          "output_type": "execute_result",
          "data": {
            "text/plain": [
              "num_orders    0\n",
              "dtype: int64"
            ]
          },
          "metadata": {},
          "execution_count": 6
        }
      ]
    },
    {
      "cell_type": "code",
      "source": [
        "# duplicated data checking\n",
        "\n",
        "df.duplicated().sum()"
      ],
      "metadata": {
        "colab": {
          "base_uri": "https://localhost:8080/"
        },
        "id": "b5duElID1Wxx",
        "outputId": "7db750b2-c018-4ca6-a5ba-50f4f08aaa4a"
      },
      "execution_count": 7,
      "outputs": [
        {
          "output_type": "execute_result",
          "data": {
            "text/plain": [
              "26415"
            ]
          },
          "metadata": {},
          "execution_count": 7
        }
      ]
    },
    {
      "cell_type": "markdown",
      "source": [
        "**Insight**\n",
        "\n",
        "1. Data provided contains 26496 rows and 1 column of number of order for each 10 minutes of time interval.\n",
        "2. There are no missing value has been found.\n",
        "3. There are no duplicated value has been found."
      ],
      "metadata": {
        "id": "eKsdGMTF1b6K"
      }
    },
    {
      "cell_type": "markdown",
      "source": [
        "### **Data Exploratory**"
      ],
      "metadata": {
        "id": "DzfLyJWm1jse"
      }
    },
    {
      "cell_type": "code",
      "source": [
        "df = df.resample('1H').sum()"
      ],
      "metadata": {
        "id": "Fplx-Yp11YK3"
      },
      "execution_count": 8,
      "outputs": []
    },
    {
      "cell_type": "code",
      "source": [
        "df_eda = df.copy()\n",
        "df_eda.tail(5)"
      ],
      "metadata": {
        "colab": {
          "base_uri": "https://localhost:8080/",
          "height": 238
        },
        "id": "hy9y8_kU1ndK",
        "outputId": "f7005fb0-c114-4dea-b2b0-f078b3c71b72"
      },
      "execution_count": 9,
      "outputs": [
        {
          "output_type": "execute_result",
          "data": {
            "text/plain": [
              "                     num_orders\n",
              "datetime                       \n",
              "2018-08-31 19:00:00         136\n",
              "2018-08-31 20:00:00         154\n",
              "2018-08-31 21:00:00         159\n",
              "2018-08-31 22:00:00         223\n",
              "2018-08-31 23:00:00         205"
            ],
            "text/html": [
              "\n",
              "  <div id=\"df-06822561-bb15-4754-ac7e-e53f585a37a5\" class=\"colab-df-container\">\n",
              "    <div>\n",
              "<style scoped>\n",
              "    .dataframe tbody tr th:only-of-type {\n",
              "        vertical-align: middle;\n",
              "    }\n",
              "\n",
              "    .dataframe tbody tr th {\n",
              "        vertical-align: top;\n",
              "    }\n",
              "\n",
              "    .dataframe thead th {\n",
              "        text-align: right;\n",
              "    }\n",
              "</style>\n",
              "<table border=\"1\" class=\"dataframe\">\n",
              "  <thead>\n",
              "    <tr style=\"text-align: right;\">\n",
              "      <th></th>\n",
              "      <th>num_orders</th>\n",
              "    </tr>\n",
              "    <tr>\n",
              "      <th>datetime</th>\n",
              "      <th></th>\n",
              "    </tr>\n",
              "  </thead>\n",
              "  <tbody>\n",
              "    <tr>\n",
              "      <th>2018-08-31 19:00:00</th>\n",
              "      <td>136</td>\n",
              "    </tr>\n",
              "    <tr>\n",
              "      <th>2018-08-31 20:00:00</th>\n",
              "      <td>154</td>\n",
              "    </tr>\n",
              "    <tr>\n",
              "      <th>2018-08-31 21:00:00</th>\n",
              "      <td>159</td>\n",
              "    </tr>\n",
              "    <tr>\n",
              "      <th>2018-08-31 22:00:00</th>\n",
              "      <td>223</td>\n",
              "    </tr>\n",
              "    <tr>\n",
              "      <th>2018-08-31 23:00:00</th>\n",
              "      <td>205</td>\n",
              "    </tr>\n",
              "  </tbody>\n",
              "</table>\n",
              "</div>\n",
              "    <div class=\"colab-df-buttons\">\n",
              "\n",
              "  <div class=\"colab-df-container\">\n",
              "    <button class=\"colab-df-convert\" onclick=\"convertToInteractive('df-06822561-bb15-4754-ac7e-e53f585a37a5')\"\n",
              "            title=\"Convert this dataframe to an interactive table.\"\n",
              "            style=\"display:none;\">\n",
              "\n",
              "  <svg xmlns=\"http://www.w3.org/2000/svg\" height=\"24px\" viewBox=\"0 -960 960 960\">\n",
              "    <path d=\"M120-120v-720h720v720H120Zm60-500h600v-160H180v160Zm220 220h160v-160H400v160Zm0 220h160v-160H400v160ZM180-400h160v-160H180v160Zm440 0h160v-160H620v160ZM180-180h160v-160H180v160Zm440 0h160v-160H620v160Z\"/>\n",
              "  </svg>\n",
              "    </button>\n",
              "\n",
              "  <style>\n",
              "    .colab-df-container {\n",
              "      display:flex;\n",
              "      gap: 12px;\n",
              "    }\n",
              "\n",
              "    .colab-df-convert {\n",
              "      background-color: #E8F0FE;\n",
              "      border: none;\n",
              "      border-radius: 50%;\n",
              "      cursor: pointer;\n",
              "      display: none;\n",
              "      fill: #1967D2;\n",
              "      height: 32px;\n",
              "      padding: 0 0 0 0;\n",
              "      width: 32px;\n",
              "    }\n",
              "\n",
              "    .colab-df-convert:hover {\n",
              "      background-color: #E2EBFA;\n",
              "      box-shadow: 0px 1px 2px rgba(60, 64, 67, 0.3), 0px 1px 3px 1px rgba(60, 64, 67, 0.15);\n",
              "      fill: #174EA6;\n",
              "    }\n",
              "\n",
              "    .colab-df-buttons div {\n",
              "      margin-bottom: 4px;\n",
              "    }\n",
              "\n",
              "    [theme=dark] .colab-df-convert {\n",
              "      background-color: #3B4455;\n",
              "      fill: #D2E3FC;\n",
              "    }\n",
              "\n",
              "    [theme=dark] .colab-df-convert:hover {\n",
              "      background-color: #434B5C;\n",
              "      box-shadow: 0px 1px 3px 1px rgba(0, 0, 0, 0.15);\n",
              "      filter: drop-shadow(0px 1px 2px rgba(0, 0, 0, 0.3));\n",
              "      fill: #FFFFFF;\n",
              "    }\n",
              "  </style>\n",
              "\n",
              "    <script>\n",
              "      const buttonEl =\n",
              "        document.querySelector('#df-06822561-bb15-4754-ac7e-e53f585a37a5 button.colab-df-convert');\n",
              "      buttonEl.style.display =\n",
              "        google.colab.kernel.accessAllowed ? 'block' : 'none';\n",
              "\n",
              "      async function convertToInteractive(key) {\n",
              "        const element = document.querySelector('#df-06822561-bb15-4754-ac7e-e53f585a37a5');\n",
              "        const dataTable =\n",
              "          await google.colab.kernel.invokeFunction('convertToInteractive',\n",
              "                                                    [key], {});\n",
              "        if (!dataTable) return;\n",
              "\n",
              "        const docLinkHtml = 'Like what you see? Visit the ' +\n",
              "          '<a target=\"_blank\" href=https://colab.research.google.com/notebooks/data_table.ipynb>data table notebook</a>'\n",
              "          + ' to learn more about interactive tables.';\n",
              "        element.innerHTML = '';\n",
              "        dataTable['output_type'] = 'display_data';\n",
              "        await google.colab.output.renderOutput(dataTable, element);\n",
              "        const docLink = document.createElement('div');\n",
              "        docLink.innerHTML = docLinkHtml;\n",
              "        element.appendChild(docLink);\n",
              "      }\n",
              "    </script>\n",
              "  </div>\n",
              "\n",
              "\n",
              "<div id=\"df-f1555db6-45eb-4ed5-bbe9-4deaf411da5b\">\n",
              "  <button class=\"colab-df-quickchart\" onclick=\"quickchart('df-f1555db6-45eb-4ed5-bbe9-4deaf411da5b')\"\n",
              "            title=\"Suggest charts\"\n",
              "            style=\"display:none;\">\n",
              "\n",
              "<svg xmlns=\"http://www.w3.org/2000/svg\" height=\"24px\"viewBox=\"0 0 24 24\"\n",
              "     width=\"24px\">\n",
              "    <g>\n",
              "        <path d=\"M19 3H5c-1.1 0-2 .9-2 2v14c0 1.1.9 2 2 2h14c1.1 0 2-.9 2-2V5c0-1.1-.9-2-2-2zM9 17H7v-7h2v7zm4 0h-2V7h2v10zm4 0h-2v-4h2v4z\"/>\n",
              "    </g>\n",
              "</svg>\n",
              "  </button>\n",
              "\n",
              "<style>\n",
              "  .colab-df-quickchart {\n",
              "      --bg-color: #E8F0FE;\n",
              "      --fill-color: #1967D2;\n",
              "      --hover-bg-color: #E2EBFA;\n",
              "      --hover-fill-color: #174EA6;\n",
              "      --disabled-fill-color: #AAA;\n",
              "      --disabled-bg-color: #DDD;\n",
              "  }\n",
              "\n",
              "  [theme=dark] .colab-df-quickchart {\n",
              "      --bg-color: #3B4455;\n",
              "      --fill-color: #D2E3FC;\n",
              "      --hover-bg-color: #434B5C;\n",
              "      --hover-fill-color: #FFFFFF;\n",
              "      --disabled-bg-color: #3B4455;\n",
              "      --disabled-fill-color: #666;\n",
              "  }\n",
              "\n",
              "  .colab-df-quickchart {\n",
              "    background-color: var(--bg-color);\n",
              "    border: none;\n",
              "    border-radius: 50%;\n",
              "    cursor: pointer;\n",
              "    display: none;\n",
              "    fill: var(--fill-color);\n",
              "    height: 32px;\n",
              "    padding: 0;\n",
              "    width: 32px;\n",
              "  }\n",
              "\n",
              "  .colab-df-quickchart:hover {\n",
              "    background-color: var(--hover-bg-color);\n",
              "    box-shadow: 0 1px 2px rgba(60, 64, 67, 0.3), 0 1px 3px 1px rgba(60, 64, 67, 0.15);\n",
              "    fill: var(--button-hover-fill-color);\n",
              "  }\n",
              "\n",
              "  .colab-df-quickchart-complete:disabled,\n",
              "  .colab-df-quickchart-complete:disabled:hover {\n",
              "    background-color: var(--disabled-bg-color);\n",
              "    fill: var(--disabled-fill-color);\n",
              "    box-shadow: none;\n",
              "  }\n",
              "\n",
              "  .colab-df-spinner {\n",
              "    border: 2px solid var(--fill-color);\n",
              "    border-color: transparent;\n",
              "    border-bottom-color: var(--fill-color);\n",
              "    animation:\n",
              "      spin 1s steps(1) infinite;\n",
              "  }\n",
              "\n",
              "  @keyframes spin {\n",
              "    0% {\n",
              "      border-color: transparent;\n",
              "      border-bottom-color: var(--fill-color);\n",
              "      border-left-color: var(--fill-color);\n",
              "    }\n",
              "    20% {\n",
              "      border-color: transparent;\n",
              "      border-left-color: var(--fill-color);\n",
              "      border-top-color: var(--fill-color);\n",
              "    }\n",
              "    30% {\n",
              "      border-color: transparent;\n",
              "      border-left-color: var(--fill-color);\n",
              "      border-top-color: var(--fill-color);\n",
              "      border-right-color: var(--fill-color);\n",
              "    }\n",
              "    40% {\n",
              "      border-color: transparent;\n",
              "      border-right-color: var(--fill-color);\n",
              "      border-top-color: var(--fill-color);\n",
              "    }\n",
              "    60% {\n",
              "      border-color: transparent;\n",
              "      border-right-color: var(--fill-color);\n",
              "    }\n",
              "    80% {\n",
              "      border-color: transparent;\n",
              "      border-right-color: var(--fill-color);\n",
              "      border-bottom-color: var(--fill-color);\n",
              "    }\n",
              "    90% {\n",
              "      border-color: transparent;\n",
              "      border-bottom-color: var(--fill-color);\n",
              "    }\n",
              "  }\n",
              "</style>\n",
              "\n",
              "  <script>\n",
              "    async function quickchart(key) {\n",
              "      const quickchartButtonEl =\n",
              "        document.querySelector('#' + key + ' button');\n",
              "      quickchartButtonEl.disabled = true;  // To prevent multiple clicks.\n",
              "      quickchartButtonEl.classList.add('colab-df-spinner');\n",
              "      try {\n",
              "        const charts = await google.colab.kernel.invokeFunction(\n",
              "            'suggestCharts', [key], {});\n",
              "      } catch (error) {\n",
              "        console.error('Error during call to suggestCharts:', error);\n",
              "      }\n",
              "      quickchartButtonEl.classList.remove('colab-df-spinner');\n",
              "      quickchartButtonEl.classList.add('colab-df-quickchart-complete');\n",
              "    }\n",
              "    (() => {\n",
              "      let quickchartButtonEl =\n",
              "        document.querySelector('#df-f1555db6-45eb-4ed5-bbe9-4deaf411da5b button');\n",
              "      quickchartButtonEl.style.display =\n",
              "        google.colab.kernel.accessAllowed ? 'block' : 'none';\n",
              "    })();\n",
              "  </script>\n",
              "</div>\n",
              "\n",
              "    </div>\n",
              "  </div>\n"
            ],
            "application/vnd.google.colaboratory.intrinsic+json": {
              "type": "dataframe",
              "summary": "{\n  \"name\": \"df_eda\",\n  \"rows\": 5,\n  \"fields\": [\n    {\n      \"column\": \"datetime\",\n      \"properties\": {\n        \"dtype\": \"date\",\n        \"min\": \"2018-08-31 19:00:00\",\n        \"max\": \"2018-08-31 23:00:00\",\n        \"num_unique_values\": 5,\n        \"samples\": [\n          \"2018-08-31 20:00:00\",\n          \"2018-08-31 23:00:00\",\n          \"2018-08-31 21:00:00\"\n        ],\n        \"semantic_type\": \"\",\n        \"description\": \"\"\n      }\n    },\n    {\n      \"column\": \"num_orders\",\n      \"properties\": {\n        \"dtype\": \"number\",\n        \"std\": 36,\n        \"min\": 136,\n        \"max\": 223,\n        \"num_unique_values\": 5,\n        \"samples\": [\n          154,\n          205,\n          159\n        ],\n        \"semantic_type\": \"\",\n        \"description\": \"\"\n      }\n    }\n  ]\n}"
            }
          },
          "metadata": {},
          "execution_count": 9
        }
      ]
    },
    {
      "cell_type": "code",
      "source": [
        "df_eda_daily = df_eda.resample('1D').sum()\n",
        "df_eda_daily.plot()"
      ],
      "metadata": {
        "colab": {
          "base_uri": "https://localhost:8080/",
          "height": 484
        },
        "id": "rnHL9GAM1pU-",
        "outputId": "2d36b759-528a-43a8-a3b0-2fb682bd37f4"
      },
      "execution_count": 10,
      "outputs": [
        {
          "output_type": "execute_result",
          "data": {
            "text/plain": [
              "<Axes: xlabel='datetime'>"
            ]
          },
          "metadata": {},
          "execution_count": 10
        },
        {
          "output_type": "display_data",
          "data": {
            "text/plain": [
              "<Figure size 640x480 with 1 Axes>"
            ],
            "image/png": "[encoded data removed]"
          },
          "metadata": {}
        }
      ]
    },
    {
      "cell_type": "code",
      "source": [
        "df_eda_hourly = df_eda.resample('1H').sum()\n",
        "df_eda_hourly.plot()"
      ],
      "metadata": {
        "colab": {
          "base_uri": "https://localhost:8080/",
          "height": 484
        },
        "id": "Dno2c5_B1qzI",
        "outputId": "9c5b2537-38f5-4c2e-8041-7fc7b54ed309"
      },
      "execution_count": 11,
      "outputs": [
        {
          "output_type": "execute_result",
          "data": {
            "text/plain": [
              "<Axes: xlabel='datetime'>"
            ]
          },
          "metadata": {},
          "execution_count": 11
        },
        {
          "output_type": "display_data",
          "data": {
            "text/plain": [
              "<Figure size 640x480 with 1 Axes>"
            ],
            "image/png": "[encoded data removed]"
          },
          "metadata": {}
        }
      ]
    },
    {
      "cell_type": "code",
      "source": [
        "df_eda.sort_index(inplace=True)\n",
        "df_eda = df_eda['2018-06':'2018-08'].resample('1D').sum()\n",
        "df_eda['rolling_mean'] = df_eda.rolling(10).mean()\n",
        "df_eda.plot()"
      ],
      "metadata": {
        "colab": {
          "base_uri": "https://localhost:8080/",
          "height": 484
        },
        "id": "2SZ-SPoD1uYN",
        "outputId": "143f308e-ebe7-4ac9-ba63-137fd72fc665"
      },
      "execution_count": 12,
      "outputs": [
        {
          "output_type": "execute_result",
          "data": {
            "text/plain": [
              "<Axes: xlabel='datetime'>"
            ]
          },
          "metadata": {},
          "execution_count": 12
        },
        {
          "output_type": "display_data",
          "data": {
            "text/plain": [
              "<Figure size 640x480 with 1 Axes>"
            ],
            "image/png": "[encoded data removed]"
          },
          "metadata": {}
        }
      ]
    },
    {
      "cell_type": "code",
      "source": [
        "decomposed = seasonal_decompose(df)\n",
        "plt.figure(figsize=(6, 8))\n",
        "\n",
        "plt.subplot(311)\n",
        "decomposed.trend.plot(ax=plt.gca())\n",
        "plt.title('Trend')\n",
        "\n",
        "plt.subplot(312)\n",
        "decomposed.seasonal.plot(ax=plt.gca())\n",
        "plt.title('Seasonality')\n",
        "\n",
        "plt.subplot(313)\n",
        "decomposed.resid.plot(ax=plt.gca())\n",
        "plt.title('Residuals')\n",
        "\n",
        "plt.tight_layout()\n",
        "plt.show()"
      ],
      "metadata": {
        "colab": {
          "base_uri": "https://localhost:8080/",
          "height": 807
        },
        "id": "ULL24xlu1wB3",
        "outputId": "4e956e81-a385-4f28-cc93-ccdd53127382"
      },
      "execution_count": 13,
      "outputs": [
        {
          "output_type": "display_data",
          "data": {
            "text/plain": [
              "<Figure size 600x800 with 3 Axes>"
            ],
            "image/png": "[encoded data removed]"
          },
          "metadata": {}
        }
      ]
    },
    {
      "cell_type": "markdown",
      "source": [
        "**Insigth**\n",
        "\n",
        "The data shows consistency of increase order started from March to August 2018."
      ],
      "metadata": {
        "id": "quhGq2jP1034"
      }
    },
    {
      "cell_type": "markdown",
      "source": [
        "## **Machine Learning Development**"
      ],
      "metadata": {
        "id": "_BHqM_EK16Gw"
      }
    },
    {
      "cell_type": "markdown",
      "source": [
        "Create a function to add time-based features and lagged values to a DataFrame for use in time series forecasting."
      ],
      "metadata": {
        "id": "uCOX-Lzf2MZB"
      }
    },
    {
      "cell_type": "code",
      "source": [
        "def make_features(df, max_lag=4, rolling_mean_size=10):\n",
        "    df['month'] = df.index.month\n",
        "    df['day'] = df.index.day\n",
        "    df['dayofweek_num'] = df.index.dayofweek\n",
        "    df['hour'] = df.index.hour\n",
        "\n",
        "    for lag in range(1, max_lag + 1):\n",
        "        df['lag_{}'.format(lag)] = df['num_orders'].shift(lag)\n",
        "\n",
        "    df['rolling_mean'] = df['num_orders'].shift().rolling(rolling_mean_size).mean()"
      ],
      "metadata": {
        "id": "r_g6jOaU1xrO"
      },
      "execution_count": 14,
      "outputs": []
    },
    {
      "cell_type": "code",
      "source": [
        "make_features(df)\n",
        "df = df.dropna()\n",
        "print(df.shape)"
      ],
      "metadata": {
        "colab": {
          "base_uri": "https://localhost:8080/"
        },
        "id": "7JHfi_DA2FpE",
        "outputId": "0eab40b9-6653-420c-ad2f-cf5690c14692"
      },
      "execution_count": 15,
      "outputs": [
        {
          "output_type": "stream",
          "name": "stdout",
          "text": [
            "(4406, 10)\n"
          ]
        }
      ]
    },
    {
      "cell_type": "code",
      "source": [
        "df.head(2)"
      ],
      "metadata": {
        "colab": {
          "base_uri": "https://localhost:8080/",
          "height": 143
        },
        "id": "NcyUiM1I2RMZ",
        "outputId": "458a7ec7-62d9-497b-ffab-462de37f503f"
      },
      "execution_count": 16,
      "outputs": [
        {
          "output_type": "execute_result",
          "data": {
            "text/plain": [
              "                     num_orders  month  day  dayofweek_num  hour  lag_1  \\\n",
              "datetime                                                                  \n",
              "2018-03-01 10:00:00          64      3    1              3    10   69.0   \n",
              "2018-03-01 11:00:00          96      3    1              3    11   64.0   \n",
              "\n",
              "                     lag_2  lag_3  lag_4  rolling_mean  \n",
              "datetime                                                \n",
              "2018-03-01 10:00:00   34.0   15.0   12.0          52.5  \n",
              "2018-03-01 11:00:00   69.0   34.0   15.0          46.5  "
            ],
            "text/html": [
              "\n",
              "  <div id=\"df-2a191aad-52d3-4f7e-a2c6-4923cdf121cf\" class=\"colab-df-container\">\n",
              "    <div>\n",
              "<style scoped>\n",
              "    .dataframe tbody tr th:only-of-type {\n",
              "        vertical-align: middle;\n",
              "    }\n",
              "\n",
              "    .dataframe tbody tr th {\n",
              "        vertical-align: top;\n",
              "    }\n",
              "\n",
              "    .dataframe thead th {\n",
              "        text-align: right;\n",
              "    }\n",
              "</style>\n",
              "<table border=\"1\" class=\"dataframe\">\n",
              "  <thead>\n",
              "    <tr style=\"text-align: right;\">\n",
              "      <th></th>\n",
              "      <th>num_orders</th>\n",
              "      <th>month</th>\n",
              "      <th>day</th>\n",
              "      <th>dayofweek_num</th>\n",
              "      <th>hour</th>\n",
              "      <th>lag_1</th>\n",
              "      <th>lag_2</th>\n",
              "      <th>lag_3</th>\n",
              "      <th>lag_4</th>\n",
              "      <th>rolling_mean</th>\n",
              "    </tr>\n",
              "    <tr>\n",
              "      <th>datetime</th>\n",
              "      <th></th>\n",
              "      <th></th>\n",
              "      <th></th>\n",
              "      <th></th>\n",
              "      <th></th>\n",
              "      <th></th>\n",
              "      <th></th>\n",
              "      <th></th>\n",
              "      <th></th>\n",
              "      <th></th>\n",
              "    </tr>\n",
              "  </thead>\n",
              "  <tbody>\n",
              "    <tr>\n",
              "      <th>2018-03-01 10:00:00</th>\n",
              "      <td>64</td>\n",
              "      <td>3</td>\n",
              "      <td>1</td>\n",
              "      <td>3</td>\n",
              "      <td>10</td>\n",
              "      <td>69.0</td>\n",
              "      <td>34.0</td>\n",
              "      <td>15.0</td>\n",
              "      <td>12.0</td>\n",
              "      <td>52.5</td>\n",
              "    </tr>\n",
              "    <tr>\n",
              "      <th>2018-03-01 11:00:00</th>\n",
              "      <td>96</td>\n",
              "      <td>3</td>\n",
              "      <td>1</td>\n",
              "      <td>3</td>\n",
              "      <td>11</td>\n",
              "      <td>64.0</td>\n",
              "      <td>69.0</td>\n",
              "      <td>34.0</td>\n",
              "      <td>15.0</td>\n",
              "      <td>46.5</td>\n",
              "    </tr>\n",
              "  </tbody>\n",
              "</table>\n",
              "</div>\n",
              "    <div class=\"colab-df-buttons\">\n",
              "\n",
              "  <div class=\"colab-df-container\">\n",
              "    <button class=\"colab-df-convert\" onclick=\"convertToInteractive('df-2a191aad-52d3-4f7e-a2c6-4923cdf121cf')\"\n",
              "            title=\"Convert this dataframe to an interactive table.\"\n",
              "            style=\"display:none;\">\n",
              "\n",
              "  <svg xmlns=\"http://www.w3.org/2000/svg\" height=\"24px\" viewBox=\"0 -960 960 960\">\n",
              "    <path d=\"M120-120v-720h720v720H120Zm60-500h600v-160H180v160Zm220 220h160v-160H400v160Zm0 220h160v-160H400v160ZM180-400h160v-160H180v160Zm440 0h160v-160H620v160ZM180-180h160v-160H180v160Zm440 0h160v-160H620v160Z\"/>\n",
              "  </svg>\n",
              "    </button>\n",
              "\n",
              "  <style>\n",
              "    .colab-df-container {\n",
              "      display:flex;\n",
              "      gap: 12px;\n",
              "    }\n",
              "\n",
              "    .colab-df-convert {\n",
              "      background-color: #E8F0FE;\n",
              "      border: none;\n",
              "      border-radius: 50%;\n",
              "      cursor: pointer;\n",
              "      display: none;\n",
              "      fill: #1967D2;\n",
              "      height: 32px;\n",
              "      padding: 0 0 0 0;\n",
              "      width: 32px;\n",
              "    }\n",
              "\n",
              "    .colab-df-convert:hover {\n",
              "      background-color: #E2EBFA;\n",
              "      box-shadow: 0px 1px 2px rgba(60, 64, 67, 0.3), 0px 1px 3px 1px rgba(60, 64, 67, 0.15);\n",
              "      fill: #174EA6;\n",
              "    }\n",
              "\n",
              "    .colab-df-buttons div {\n",
              "      margin-bottom: 4px;\n",
              "    }\n",
              "\n",
              "    [theme=dark] .colab-df-convert {\n",
              "      background-color: #3B4455;\n",
              "      fill: #D2E3FC;\n",
              "    }\n",
              "\n",
              "    [theme=dark] .colab-df-convert:hover {\n",
              "      background-color: #434B5C;\n",
              "      box-shadow: 0px 1px 3px 1px rgba(0, 0, 0, 0.15);\n",
              "      filter: drop-shadow(0px 1px 2px rgba(0, 0, 0, 0.3));\n",
              "      fill: #FFFFFF;\n",
              "    }\n",
              "  </style>\n",
              "\n",
              "    <script>\n",
              "      const buttonEl =\n",
              "        document.querySelector('#df-2a191aad-52d3-4f7e-a2c6-4923cdf121cf button.colab-df-convert');\n",
              "      buttonEl.style.display =\n",
              "        google.colab.kernel.accessAllowed ? 'block' : 'none';\n",
              "\n",
              "      async function convertToInteractive(key) {\n",
              "        const element = document.querySelector('#df-2a191aad-52d3-4f7e-a2c6-4923cdf121cf');\n",
              "        const dataTable =\n",
              "          await google.colab.kernel.invokeFunction('convertToInteractive',\n",
              "                                                    [key], {});\n",
              "        if (!dataTable) return;\n",
              "\n",
              "        const docLinkHtml = 'Like what you see? Visit the ' +\n",
              "          '<a target=\"_blank\" href=https://colab.research.google.com/notebooks/data_table.ipynb>data table notebook</a>'\n",
              "          + ' to learn more about interactive tables.';\n",
              "        element.innerHTML = '';\n",
              "        dataTable['output_type'] = 'display_data';\n",
              "        await google.colab.output.renderOutput(dataTable, element);\n",
              "        const docLink = document.createElement('div');\n",
              "        docLink.innerHTML = docLinkHtml;\n",
              "        element.appendChild(docLink);\n",
              "      }\n",
              "    </script>\n",
              "  </div>\n",
              "\n",
              "\n",
              "<div id=\"df-115fe8ac-8feb-4277-b3b0-c10d81873029\">\n",
              "  <button class=\"colab-df-quickchart\" onclick=\"quickchart('df-115fe8ac-8feb-4277-b3b0-c10d81873029')\"\n",
              "            title=\"Suggest charts\"\n",
              "            style=\"display:none;\">\n",
              "\n",
              "<svg xmlns=\"http://www.w3.org/2000/svg\" height=\"24px\"viewBox=\"0 0 24 24\"\n",
              "     width=\"24px\">\n",
              "    <g>\n",
              "        <path d=\"M19 3H5c-1.1 0-2 .9-2 2v14c0 1.1.9 2 2 2h14c1.1 0 2-.9 2-2V5c0-1.1-.9-2-2-2zM9 17H7v-7h2v7zm4 0h-2V7h2v10zm4 0h-2v-4h2v4z\"/>\n",
              "    </g>\n",
              "</svg>\n",
              "  </button>\n",
              "\n",
              "<style>\n",
              "  .colab-df-quickchart {\n",
              "      --bg-color: #E8F0FE;\n",
              "      --fill-color: #1967D2;\n",
              "      --hover-bg-color: #E2EBFA;\n",
              "      --hover-fill-color: #174EA6;\n",
              "      --disabled-fill-color: #AAA;\n",
              "      --disabled-bg-color: #DDD;\n",
              "  }\n",
              "\n",
              "  [theme=dark] .colab-df-quickchart {\n",
              "      --bg-color: #3B4455;\n",
              "      --fill-color: #D2E3FC;\n",
              "      --hover-bg-color: #434B5C;\n",
              "      --hover-fill-color: #FFFFFF;\n",
              "      --disabled-bg-color: #3B4455;\n",
              "      --disabled-fill-color: #666;\n",
              "  }\n",
              "\n",
              "  .colab-df-quickchart {\n",
              "    background-color: var(--bg-color);\n",
              "    border: none;\n",
              "    border-radius: 50%;\n",
              "    cursor: pointer;\n",
              "    display: none;\n",
              "    fill: var(--fill-color);\n",
              "    height: 32px;\n",
              "    padding: 0;\n",
              "    width: 32px;\n",
              "  }\n",
              "\n",
              "  .colab-df-quickchart:hover {\n",
              "    background-color: var(--hover-bg-color);\n",
              "    box-shadow: 0 1px 2px rgba(60, 64, 67, 0.3), 0 1px 3px 1px rgba(60, 64, 67, 0.15);\n",
              "    fill: var(--button-hover-fill-color);\n",
              "  }\n",
              "\n",
              "  .colab-df-quickchart-complete:disabled,\n",
              "  .colab-df-quickchart-complete:disabled:hover {\n",
              "    background-color: var(--disabled-bg-color);\n",
              "    fill: var(--disabled-fill-color);\n",
              "    box-shadow: none;\n",
              "  }\n",
              "\n",
              "  .colab-df-spinner {\n",
              "    border: 2px solid var(--fill-color);\n",
              "    border-color: transparent;\n",
              "    border-bottom-color: var(--fill-color);\n",
              "    animation:\n",
              "      spin 1s steps(1) infinite;\n",
              "  }\n",
              "\n",
              "  @keyframes spin {\n",
              "    0% {\n",
              "      border-color: transparent;\n",
              "      border-bottom-color: var(--fill-color);\n",
              "      border-left-color: var(--fill-color);\n",
              "    }\n",
              "    20% {\n",
              "      border-color: transparent;\n",
              "      border-left-color: var(--fill-color);\n",
              "      border-top-color: var(--fill-color);\n",
              "    }\n",
              "    30% {\n",
              "      border-color: transparent;\n",
              "      border-left-color: var(--fill-color);\n",
              "      border-top-color: var(--fill-color);\n",
              "      border-right-color: var(--fill-color);\n",
              "    }\n",
              "    40% {\n",
              "      border-color: transparent;\n",
              "      border-right-color: var(--fill-color);\n",
              "      border-top-color: var(--fill-color);\n",
              "    }\n",
              "    60% {\n",
              "      border-color: transparent;\n",
              "      border-right-color: var(--fill-color);\n",
              "    }\n",
              "    80% {\n",
              "      border-color: transparent;\n",
              "      border-right-color: var(--fill-color);\n",
              "      border-bottom-color: var(--fill-color);\n",
              "    }\n",
              "    90% {\n",
              "      border-color: transparent;\n",
              "      border-bottom-color: var(--fill-color);\n",
              "    }\n",
              "  }\n",
              "</style>\n",
              "\n",
              "  <script>\n",
              "    async function quickchart(key) {\n",
              "      const quickchartButtonEl =\n",
              "        document.querySelector('#' + key + ' button');\n",
              "      quickchartButtonEl.disabled = true;  // To prevent multiple clicks.\n",
              "      quickchartButtonEl.classList.add('colab-df-spinner');\n",
              "      try {\n",
              "        const charts = await google.colab.kernel.invokeFunction(\n",
              "            'suggestCharts', [key], {});\n",
              "      } catch (error) {\n",
              "        console.error('Error during call to suggestCharts:', error);\n",
              "      }\n",
              "      quickchartButtonEl.classList.remove('colab-df-spinner');\n",
              "      quickchartButtonEl.classList.add('colab-df-quickchart-complete');\n",
              "    }\n",
              "    (() => {\n",
              "      let quickchartButtonEl =\n",
              "        document.querySelector('#df-115fe8ac-8feb-4277-b3b0-c10d81873029 button');\n",
              "      quickchartButtonEl.style.display =\n",
              "        google.colab.kernel.accessAllowed ? 'block' : 'none';\n",
              "    })();\n",
              "  </script>\n",
              "</div>\n",
              "\n",
              "    </div>\n",
              "  </div>\n"
            ],
            "application/vnd.google.colaboratory.intrinsic+json": {
              "type": "dataframe",
              "variable_name": "df",
              "summary": "{\n  \"name\": \"df\",\n  \"rows\": 4406,\n  \"fields\": [\n    {\n      \"column\": \"datetime\",\n      \"properties\": {\n        \"dtype\": \"date\",\n        \"min\": \"2018-03-01 10:00:00\",\n        \"max\": \"2018-08-31 23:00:00\",\n        \"num_unique_values\": 4406,\n        \"samples\": [\n          \"2018-06-19 10:00:00\",\n          \"2018-03-29 06:00:00\",\n          \"2018-06-21 07:00:00\"\n        ],\n        \"semantic_type\": \"\",\n        \"description\": \"\"\n      }\n    },\n    {\n      \"column\": \"num_orders\",\n      \"properties\": {\n        \"dtype\": \"number\",\n        \"std\": 45,\n        \"min\": 0,\n        \"max\": 462,\n        \"num_unique_values\": 251,\n        \"samples\": [\n          136,\n          43,\n          234\n        ],\n        \"semantic_type\": \"\",\n        \"description\": \"\"\n      }\n    },\n    {\n      \"column\": \"month\",\n      \"properties\": {\n        \"dtype\": \"int32\",\n        \"num_unique_values\": 6,\n        \"samples\": [\n          3,\n          4,\n          8\n        ],\n        \"semantic_type\": \"\",\n        \"description\": \"\"\n      }\n    },\n    {\n      \"column\": \"day\",\n      \"properties\": {\n        \"dtype\": \"int32\",\n        \"num_unique_values\": 31,\n        \"samples\": [\n          28,\n          16,\n          24\n        ],\n        \"semantic_type\": \"\",\n        \"description\": \"\"\n      }\n    },\n    {\n      \"column\": \"dayofweek_num\",\n      \"properties\": {\n        \"dtype\": \"int32\",\n        \"num_unique_values\": 7,\n        \"samples\": [\n          3,\n          4,\n          1\n        ],\n        \"semantic_type\": \"\",\n        \"description\": \"\"\n      }\n    },\n    {\n      \"column\": \"hour\",\n      \"properties\": {\n        \"dtype\": \"int32\",\n        \"num_unique_values\": 24,\n        \"samples\": [\n          18,\n          2,\n          10\n        ],\n        \"semantic_type\": \"\",\n        \"description\": \"\"\n      }\n    },\n    {\n      \"column\": \"lag_1\",\n      \"properties\": {\n        \"dtype\": \"number\",\n        \"std\": 44.98139331702406,\n        \"min\": 0.0,\n        \"max\": 462.0,\n        \"num_unique_values\": 251,\n        \"samples\": [\n          136.0,\n          66.0,\n          234.0\n        ],\n        \"semantic_type\": \"\",\n        \"description\": \"\"\n      }\n    },\n    {\n      \"column\": \"lag_2\",\n      \"properties\": {\n        \"dtype\": \"number\",\n        \"std\": 44.93934954010057,\n        \"min\": 0.0,\n        \"max\": 462.0,\n        \"num_unique_values\": 251,\n        \"samples\": [\n          136.0,\n          48.0,\n          234.0\n        ],\n        \"semantic_type\": \"\",\n        \"description\": \"\"\n      }\n    },\n    {\n      \"column\": \"lag_3\",\n      \"properties\": {\n        \"dtype\": \"number\",\n        \"std\": 44.937461919844836,\n        \"min\": 0.0,\n        \"max\": 462.0,\n        \"num_unique_values\": 251,\n        \"samples\": [\n          136.0,\n          32.0,\n          234.0\n        ],\n        \"semantic_type\": \"\",\n        \"description\": \"\"\n      }\n    },\n    {\n      \"column\": \"lag_4\",\n      \"properties\": {\n        \"dtype\": \"number\",\n        \"std\": 44.938446602806984,\n        \"min\": 0.0,\n        \"max\": 462.0,\n        \"num_unique_values\": 251,\n        \"samples\": [\n          136.0,\n          30.0,\n          234.0\n        ],\n        \"semantic_type\": \"\",\n        \"description\": \"\"\n      }\n    },\n    {\n      \"column\": \"rolling_mean\",\n      \"properties\": {\n        \"dtype\": \"number\",\n        \"std\": 29.695361429821116,\n        \"min\": 27.0,\n        \"max\": 213.4,\n        \"num_unique_values\": 1179,\n        \"samples\": [\n          65.7,\n          50.1,\n          113.9\n        ],\n        \"semantic_type\": \"\",\n        \"description\": \"\"\n      }\n    }\n  ]\n}"
            }
          },
          "metadata": {},
          "execution_count": 16
        }
      ]
    },
    {
      "cell_type": "code",
      "source": [
        "# Splitting the data into train, test, and valid dataset\n",
        "\n",
        "train_valid, test = train_test_split(df, shuffle=False, test_size=0.1)\n",
        "train, valid = train_test_split(train_valid, shuffle=False, test_size=0.1)"
      ],
      "metadata": {
        "id": "_PHTbfPa2Sjk"
      },
      "execution_count": 17,
      "outputs": []
    },
    {
      "cell_type": "code",
      "source": [
        "print(train.index.min(), train.index.max())\n",
        "print(train.shape)\n",
        "print(test.index.min(), test.index.max())\n",
        "print(test.shape)\n",
        "print(valid.index.min(), valid.index.max())\n",
        "print(valid.shape)"
      ],
      "metadata": {
        "colab": {
          "base_uri": "https://localhost:8080/"
        },
        "id": "ggEQRSEx2UZB",
        "outputId": "03996591-1ec8-4a81-ee13-c9a528158f95"
      },
      "execution_count": 18,
      "outputs": [
        {
          "output_type": "stream",
          "name": "stdout",
          "text": [
            "2018-03-01 10:00:00 2018-07-28 01:00:00\n",
            "(3568, 10)\n",
            "2018-08-13 15:00:00 2018-08-31 23:00:00\n",
            "(441, 10)\n",
            "2018-07-28 02:00:00 2018-08-13 14:00:00\n",
            "(397, 10)\n"
          ]
        }
      ]
    },
    {
      "cell_type": "code",
      "source": [
        "X_train = train.drop(['num_orders'], axis=1)\n",
        "y_train = train['num_orders']\n",
        "X_test = test.drop(['num_orders'], axis=1)\n",
        "y_test = test['num_orders']\n",
        "X_valid = valid.drop(['num_orders'], axis=1)\n",
        "y_valid = valid['num_orders']"
      ],
      "metadata": {
        "id": "gNHaOx5j2XTV"
      },
      "execution_count": 19,
      "outputs": []
    },
    {
      "cell_type": "code",
      "source": [
        "X_train.shape, y_train.shape"
      ],
      "metadata": {
        "colab": {
          "base_uri": "https://localhost:8080/"
        },
        "id": "_ZehfWDk2ZBU",
        "outputId": "844d8c1a-f1e2-4a45-b72e-037ae2c59c9f"
      },
      "execution_count": 20,
      "outputs": [
        {
          "output_type": "execute_result",
          "data": {
            "text/plain": [
              "((3568, 9), (3568,))"
            ]
          },
          "metadata": {},
          "execution_count": 20
        }
      ]
    },
    {
      "cell_type": "code",
      "source": [
        "X_test.shape, y_test.shape"
      ],
      "metadata": {
        "colab": {
          "base_uri": "https://localhost:8080/"
        },
        "id": "H_psTg6F2an6",
        "outputId": "f270d46c-34d9-4ecf-9bde-8107f13aa25a"
      },
      "execution_count": 21,
      "outputs": [
        {
          "output_type": "execute_result",
          "data": {
            "text/plain": [
              "((441, 9), (441,))"
            ]
          },
          "metadata": {},
          "execution_count": 21
        }
      ]
    },
    {
      "cell_type": "code",
      "source": [
        "X_valid.shape, y_valid.shape"
      ],
      "metadata": {
        "colab": {
          "base_uri": "https://localhost:8080/"
        },
        "id": "byFyxecJ2b4A",
        "outputId": "457b0096-cd9f-4234-a3e2-63640ac2774b"
      },
      "execution_count": 22,
      "outputs": [
        {
          "output_type": "execute_result",
          "data": {
            "text/plain": [
              "((397, 9), (397,))"
            ]
          },
          "metadata": {},
          "execution_count": 22
        }
      ]
    },
    {
      "cell_type": "code",
      "source": [
        "def rmse(true, pred):\n",
        "    return mean_squared_error(true, pred)**0.5"
      ],
      "metadata": {
        "id": "hHKmuxcu2dSJ"
      },
      "execution_count": 23,
      "outputs": []
    },
    {
      "cell_type": "code",
      "source": [
        "print('Mean value:', test['num_orders'].mean())\n",
        "pred_previous = test.shift()\n",
        "pred_previous.iloc[0] = train.iloc[-1]\n",
        "\n",
        "print('RMSE prev:', rmse(test['num_orders'], pred_previous['num_orders']))\n",
        "pred_mean = np.ones(test['num_orders'].shape) * train['num_orders'].mean()\n",
        "print('RMSE mean:', rmse(test['num_orders'], pred_mean))"
      ],
      "metadata": {
        "colab": {
          "base_uri": "https://localhost:8080/"
        },
        "id": "k0g-Gko72e5N",
        "outputId": "dddfd910-1fb5-4c85-eb91-7578bd5b932d"
      },
      "execution_count": 24,
      "outputs": [
        {
          "output_type": "stream",
          "name": "stdout",
          "text": [
            "Mean value: 139.64172335600907\n",
            "RMSE prev: 58.82268986995932\n",
            "RMSE mean: 87.35030729608127\n"
          ]
        }
      ]
    },
    {
      "cell_type": "markdown",
      "source": [
        "### **Linear Regression**"
      ],
      "metadata": {
        "id": "P-uoZDEh3GSy"
      }
    },
    {
      "cell_type": "code",
      "source": [
        "%%time\n",
        "\n",
        "# Linear Regression Model\n",
        "\n",
        "lr = LinearRegression()\n",
        "lr.fit(X_train, y_train)\n",
        "\n",
        "pred_train = lr.predict(X_train)\n",
        "pred_valid = lr.predict(X_valid)\n",
        "\n",
        "print('RMSE train:', rmse(y_train, pred_train).round(3))\n",
        "print('RMSE valid:', rmse(y_valid, pred_valid).round(3))\n",
        "print('')"
      ],
      "metadata": {
        "colab": {
          "base_uri": "https://localhost:8080/"
        },
        "id": "xoUM9WJ32gaX",
        "outputId": "eee4e8a1-7631-41ce-cb9f-e499783ad97e"
      },
      "execution_count": 25,
      "outputs": [
        {
          "output_type": "stream",
          "name": "stdout",
          "text": [
            "RMSE train: 29.189\n",
            "RMSE valid: 40.539\n",
            "\n",
            "CPU times: user 24.4 ms, sys: 21.3 ms, total: 45.7 ms\n",
            "Wall time: 65.1 ms\n"
          ]
        }
      ]
    },
    {
      "cell_type": "markdown",
      "source": [
        "### **Random Forest Regressor**"
      ],
      "metadata": {
        "id": "Gbfkdlep3Mf7"
      }
    },
    {
      "cell_type": "code",
      "source": [
        "%%time\n",
        "\n",
        "# Random Forest Regressor Model\n",
        "\n",
        "depth = [2, 4, 6, 8, None]\n",
        "\n",
        "for max_depth in depth:\n",
        "    rf = RandomForestRegressor(n_estimators=500, max_depth=max_depth)\n",
        "    rf.fit(X_train, y_train)\n",
        "\n",
        "    pred_train = rf.predict(X_train)\n",
        "    pred_valid = rf.predict(X_valid)\n",
        "\n",
        "    print('Max depth:', max_depth)\n",
        "    print('RMSE train:', rmse(y_train, pred_train).round(3))\n",
        "    print('RMSE valid:', rmse(y_valid, pred_valid).round(3))\n",
        "    print('')"
      ],
      "metadata": {
        "colab": {
          "base_uri": "https://localhost:8080/"
        },
        "id": "rUGKZhXr3DRa",
        "outputId": "2ab40170-6d04-4e54-ef91-c78ec39ebaff"
      },
      "execution_count": 26,
      "outputs": [
        {
          "output_type": "stream",
          "name": "stdout",
          "text": [
            "Max depth: 2\n",
            "RMSE train: 28.615\n",
            "RMSE valid: 47.885\n",
            "\n",
            "Max depth: 4\n",
            "RMSE train: 24.785\n",
            "RMSE valid: 41.13\n",
            "\n",
            "Max depth: 6\n",
            "RMSE train: 21.187\n",
            "RMSE valid: 35.315\n",
            "\n",
            "Max depth: 8\n",
            "RMSE train: 17.595\n",
            "RMSE valid: 33.16\n",
            "\n",
            "Max depth: None\n",
            "RMSE train: 7.79\n",
            "RMSE valid: 31.793\n",
            "\n",
            "CPU times: user 29.2 s, sys: 269 ms, total: 29.5 s\n",
            "Wall time: 39.3 s\n"
          ]
        }
      ]
    },
    {
      "cell_type": "markdown",
      "source": [
        "### **Light GBM**"
      ],
      "metadata": {
        "id": "0CPmYobg3UqH"
      }
    },
    {
      "cell_type": "code",
      "source": [
        "%%time\n",
        "\n",
        "# Light GBM Model\n",
        "\n",
        "lg = LGBMRegressor(learning_rate=0.02, num_iterations=10, objective='rmse')\n",
        "lg.fit(X_train, y_train, eval_set=(X_valid, y_valid))\n",
        "\n",
        "pred_train = lg.predict(X_train)\n",
        "pred_valid = lg.predict(X_valid)\n",
        "\n",
        "print('')\n",
        "print('RMSE train:', rmse(y_train, pred_train).round(3))\n",
        "print('RMSE valid:', rmse(y_valid, pred_valid).round(3))\n",
        "print('')"
      ],
      "metadata": {
        "colab": {
          "base_uri": "https://localhost:8080/"
        },
        "id": "_AgSRTio3ILk",
        "outputId": "da5dab0f-250a-4e5c-92a7-120528c09b0a"
      },
      "execution_count": 27,
      "outputs": [
        {
          "output_type": "stream",
          "name": "stdout",
          "text": [
            "[LightGBM] [Info] Auto-choosing row-wise multi-threading, the overhead of testing was 0.000573 seconds.\n",
            "You can set `force_row_wise=true` to remove the overhead.\n",
            "And if memory is not enough, you can set `force_col_wise=true`.\n",
            "[LightGBM] [Info] Total Bins 1035\n",
            "[LightGBM] [Info] Number of data points in the train set: 3568, number of used features: 9\n",
            "[LightGBM] [Info] Start training from score 74.853980\n",
            "\n",
            "RMSE train: 32.195\n",
            "RMSE valid: 52.586\n",
            "\n",
            "CPU times: user 54.2 ms, sys: 2.91 ms, total: 57.1 ms\n",
            "Wall time: 88.4 ms\n"
          ]
        },
        {
          "output_type": "stream",
          "name": "stderr",
          "text": [
            "/usr/local/lib/python3.10/dist-packages/lightgbm/engine.py:172: UserWarning: Found `num_iterations` in params. Will use it instead of argument\n",
            "  _log_warning(f\"Found `{alias}` in params. Will use it instead of argument\")\n"
          ]
        }
      ]
    },
    {
      "cell_type": "markdown",
      "source": [
        "### **Cat Boost**"
      ],
      "metadata": {
        "id": "x3yh_F9x3az7"
      }
    },
    {
      "cell_type": "code",
      "source": [
        "%%time\n",
        "\n",
        "# Cat Boost Model\n",
        "\n",
        "cb = CatBoostRegressor(iterations=10, learning_rate=0.02, metric_period=100, loss_function='RMSE')\n",
        "cb.fit(X_train, y_train, eval_set=(X_valid, y_valid))\n",
        "\n",
        "pred_train = cb.predict(X_train)\n",
        "pred_valid = cb.predict(X_valid)\n",
        "\n",
        "print('')\n",
        "print('RMSE train:', rmse(y_train, pred_train).round(3))\n",
        "print('RMSE valid:', rmse(y_valid, pred_valid).round(3))\n",
        "print('')"
      ],
      "metadata": {
        "colab": {
          "base_uri": "https://localhost:8080/"
        },
        "id": "N2sIq5Ck3TBR",
        "outputId": "860413ec-cc2d-4523-d631-75162f7d6001"
      },
      "execution_count": 28,
      "outputs": [
        {
          "output_type": "stream",
          "name": "stdout",
          "text": [
            "0:\tlearn: 35.7441940\ttest: 57.4799234\tbest: 57.4799234 (0)\ttotal: 48.5ms\tremaining: 437ms\n",
            "9:\tlearn: 33.1438520\ttest: 54.0831356\tbest: 54.0831356 (9)\ttotal: 75.5ms\tremaining: 0us\n",
            "\n",
            "bestTest = 54.08313564\n",
            "bestIteration = 9\n",
            "\n",
            "\n",
            "RMSE train: 33.144\n",
            "RMSE valid: 54.083\n",
            "\n",
            "CPU times: user 62.5 ms, sys: 14.8 ms, total: 77.3 ms\n",
            "Wall time: 154 ms\n"
          ]
        }
      ]
    },
    {
      "cell_type": "markdown",
      "source": [
        "**Insight**\n",
        "\n",
        "Based on the several machine learning model that has been experimented on train dataset. The result obtained are listed as below:\n",
        "\n",
        "1. Linear Regression Model\n",
        "- RMSE train: 29.189\n",
        "- RMSE valid: 40.539\n",
        "\n",
        "2. Random Forest Regressor Model\n",
        "- Max depth: None\n",
        "- RMSE train: 7.792\n",
        "- RMSE valid: 31.76\n",
        "\n",
        "3. Light GBM Model\n",
        "- RMSE train: 32.195\n",
        "- RMSE valid: 52.586\n",
        "\n",
        "4. Cat Boost Model\n",
        "- RMSE train: 33.144\n",
        "- RMSE valid: 54.083"
      ],
      "metadata": {
        "id": "u16q7se83ghX"
      }
    },
    {
      "cell_type": "markdown",
      "source": [
        "## **Testing Model on Test Dataset**"
      ],
      "metadata": {
        "id": "v3O9BMMg3mmR"
      }
    },
    {
      "cell_type": "code",
      "source": [
        "# Testing on test dataset\n",
        "\n",
        "X_train_valid = train_valid.drop(['num_orders'], axis=1)\n",
        "y_train_valid = train_valid['num_orders']"
      ],
      "metadata": {
        "id": "qf2vwa2y3aVA"
      },
      "execution_count": 29,
      "outputs": []
    },
    {
      "cell_type": "markdown",
      "source": [
        "### **Linear Regression**"
      ],
      "metadata": {
        "id": "YkWwoiVv3uHy"
      }
    },
    {
      "cell_type": "code",
      "source": [
        "%%time\n",
        "\n",
        "# Linear Regression Model\n",
        "\n",
        "lr = LinearRegression()\n",
        "lr.fit(X_train_valid, y_train_valid)\n",
        "\n",
        "pred_train = lr.predict(X_train_valid)\n",
        "print('RMSE train:', rmse(y_train_valid, pred_train).round(3))\n",
        "\n",
        "pred_test = lr.predict(X_test)\n",
        "print('RMSE test:', rmse(y_test, pred_test).round(3))\n",
        "\n",
        "print('')"
      ],
      "metadata": {
        "colab": {
          "base_uri": "https://localhost:8080/"
        },
        "id": "qS3piVC43r5L",
        "outputId": "ffdf2f78-0b8d-4a56-b7ed-1f37a78d0ba7"
      },
      "execution_count": 30,
      "outputs": [
        {
          "output_type": "stream",
          "name": "stdout",
          "text": [
            "RMSE train: 30.489\n",
            "RMSE test: 53.178\n",
            "\n",
            "CPU times: user 22.9 ms, sys: 10.9 ms, total: 33.8 ms\n",
            "Wall time: 28 ms\n"
          ]
        }
      ]
    },
    {
      "cell_type": "markdown",
      "source": [
        "### **Random Forest**"
      ],
      "metadata": {
        "id": "b4zavXgx3y9C"
      }
    },
    {
      "cell_type": "code",
      "source": [
        "%%time\n",
        "\n",
        "# Random Forest Regressor\n",
        "\n",
        "rf = RandomForestRegressor(n_estimators=500)\n",
        "rf.fit(X_train_valid, y_train_valid)\n",
        "\n",
        "pred_train = rf.predict(X_train_valid)\n",
        "print('RMSE train:', rmse(y_train_valid, pred_train).round(3))\n",
        "\n",
        "pred_test = rf.predict(X_test)\n",
        "print('RMSE test:', rmse(y_test, pred_test).round(3))\n",
        "\n",
        "print('')"
      ],
      "metadata": {
        "colab": {
          "base_uri": "https://localhost:8080/"
        },
        "id": "DCSHJkfe3tuO",
        "outputId": "cb9c9ff1-b028-4628-8a7c-c12ea41c40ec"
      },
      "execution_count": 31,
      "outputs": [
        {
          "output_type": "stream",
          "name": "stdout",
          "text": [
            "RMSE train: 8.253\n",
            "RMSE test: 45.946\n",
            "\n",
            "CPU times: user 10.8 s, sys: 74.8 ms, total: 10.9 s\n",
            "Wall time: 10.9 s\n"
          ]
        }
      ]
    },
    {
      "cell_type": "markdown",
      "source": [
        "### **Light GBM**"
      ],
      "metadata": {
        "id": "XF7XXAtp35Tj"
      }
    },
    {
      "cell_type": "code",
      "source": [
        "%%time\n",
        "\n",
        "# Light GBM Model\n",
        "\n",
        "lg = LGBMRegressor(learning_rate=0.02, num_iterations=10, objective='rmse')\n",
        "lg.fit(X_train_valid, y_train_valid)\n",
        "\n",
        "pred_train = lg.predict(X_train_valid)\n",
        "print('RMSE train:', rmse(y_train_valid, pred_train).round(3))\n",
        "\n",
        "pred_test = lg.predict(X_test)\n",
        "print('RMSE test:', rmse(y_test, pred_test).round(3))\n",
        "\n",
        "print('')"
      ],
      "metadata": {
        "colab": {
          "base_uri": "https://localhost:8080/"
        },
        "id": "JbGsWmOW3ynJ",
        "outputId": "5f48d4c1-1b3e-42d3-a7b5-ade92fc83103"
      },
      "execution_count": 32,
      "outputs": [
        {
          "output_type": "stream",
          "name": "stdout",
          "text": [
            "[LightGBM] [Info] Auto-choosing row-wise multi-threading, the overhead of testing was 0.000144 seconds.\n",
            "You can set `force_row_wise=true` to remove the overhead.\n",
            "And if memory is not enough, you can set `force_col_wise=true`.\n",
            "[LightGBM] [Info] Total Bins 1085\n",
            "[LightGBM] [Info] Number of data points in the train set: 3965, number of used features: 9\n",
            "[LightGBM] [Info] Start training from score 78.361665\n",
            "RMSE train: 34.461\n",
            "RMSE test: 77.177\n",
            "\n",
            "CPU times: user 29.5 ms, sys: 2.93 ms, total: 32.4 ms\n",
            "Wall time: 31.4 ms\n"
          ]
        },
        {
          "output_type": "stream",
          "name": "stderr",
          "text": [
            "/usr/local/lib/python3.10/dist-packages/lightgbm/engine.py:172: UserWarning: Found `num_iterations` in params. Will use it instead of argument\n",
            "  _log_warning(f\"Found `{alias}` in params. Will use it instead of argument\")\n"
          ]
        }
      ]
    },
    {
      "cell_type": "markdown",
      "source": [
        "### **Cat Boost**"
      ],
      "metadata": {
        "id": "nLJdKmmz3-JN"
      }
    },
    {
      "cell_type": "code",
      "source": [
        "%%time\n",
        "\n",
        "# Cat Boost Model\n",
        "\n",
        "cb = CatBoostRegressor(iterations=10, learning_rate=0.02, metric_period=100, loss_function='RMSE')\n",
        "cb.fit(X_train_valid, y_train_valid)\n",
        "\n",
        "pred_train = cb.predict(X_train_valid)\n",
        "print('RMSE train:', rmse(y_train_valid, pred_train).round(3))\n",
        "\n",
        "pred_test = cb.predict(X_test)\n",
        "print('RMSE test:', rmse(y_test, pred_test).round(3))\n",
        "\n",
        "print('')"
      ],
      "metadata": {
        "colab": {
          "base_uri": "https://localhost:8080/"
        },
        "id": "IiX93VwH327R",
        "outputId": "32adfd1f-9ffb-433f-9c9c-e1e5cee25e1b"
      },
      "execution_count": 33,
      "outputs": [
        {
          "output_type": "stream",
          "name": "stdout",
          "text": [
            "0:\tlearn: 38.3032227\ttotal: 2.67ms\tremaining: 24ms\n",
            "9:\tlearn: 35.4993743\ttotal: 19.3ms\tremaining: 0us\n",
            "RMSE train: 35.499\n",
            "RMSE test: 80.164\n",
            "\n",
            "CPU times: user 55.2 ms, sys: 8.92 ms, total: 64.1 ms\n",
            "Wall time: 66.2 ms\n"
          ]
        }
      ]
    },
    {
      "cell_type": "markdown",
      "source": [
        "**Insight**\n",
        "\n",
        "Based on the several machine learning model that has been experimented on test dataset. The result obtained are listed as below:\n",
        "\n",
        "1. Linear Regression Model\n",
        "- RMSE train: 30.489\n",
        "- RMSE test: 53.178\n",
        "\n",
        "2. Random Forest Regressor Model\n",
        "- Max depth: None\n",
        "- RMSE train: 8.239\n",
        "- RMSE test: 46.198\n",
        "\n",
        "3. Light GBM Model\n",
        "- RMSE train: 34.461\n",
        "- RMSE test: 77.177\n",
        "\n",
        "4. Cat Boost Model\n",
        "- RMSE train: 35.499\n",
        "- RMSE test: 80.164"
      ],
      "metadata": {
        "id": "bAZQn3Di4BWG"
      }
    },
    {
      "cell_type": "markdown",
      "source": [
        "## **Conclusion**\n",
        "\n",
        "The goal of this project is to formulate machine learning model to predict the order of the next hour that has the RMSE value less than 48.\n",
        "\n",
        "Exploratory Data Analysis has been conducted and found that:\n",
        "1. Data provided contains 26496 rows and 1 column of number of order for each 10 minutes of time interval.\n",
        "2. There are no missing value has been found.\n",
        "3. There are no duplicated value has been found.\n",
        "4. The data shows consistency of increase order started from March to August 2018.\n",
        "\n",
        "The development of machine learning model has been conducted with the 10% of dataset test and the results are as below:\n",
        "\n",
        "Based on the several machine learning model that has been experimented on train dataset. The result obtained are listed as below:\n",
        "\n",
        "1. Linear Regression Model\n",
        "- RMSE train: 29.189\n",
        "- RMSE valid: 40.539\n",
        "\n",
        "2. Random Forest Regressor Model\n",
        "- Max depth: None\n",
        "- RMSE train: 7.792\n",
        "- RMSE valid: 31.76\n",
        "\n",
        "3. Light GBM Model\n",
        "- RMSE train: 32.195\n",
        "- RMSE valid: 52.586\n",
        "\n",
        "4. Cat Boost Model\n",
        "- RMSE train: 33.144\n",
        "- RMSE valid: 54.083\n",
        "\n",
        "Based on the several machine learning model that has been experimented on test dataset. The result obtained are listed as below:\n",
        "\n",
        "1. Linear Regression Model\n",
        "- RMSE train: 30.489\n",
        "- RMSE test: 53.178\n",
        "\n",
        "2. Random Forest Regressor Model\n",
        "- Max depth: None\n",
        "- RMSE train: 8.239\n",
        "- RMSE test: 46.198\n",
        "\n",
        "3. Light GBM Model\n",
        "- RMSE train: 34.461\n",
        "- RMSE test: 77.177\n",
        "\n",
        "4. Cat Boost Model\n",
        "- RMSE train: 35.499\n",
        "- RMSE test: 80.164\n",
        "\n",
        "Therefore, based on the machine learning performance on the test dataset, we can conclude that the best machine learning model that pass the specification of less than 48 on RMSE score is Randon Forest Regressor with n_estimators value of 500."
      ],
      "metadata": {
        "id": "LYNR7SG94E1V"
      }
    },
    {
      "cell_type": "code",
      "source": [],
      "metadata": {
        "id": "LdjrTKZo39AR"
      },
      "execution_count": 33,
      "outputs": []
    }
  ]
}